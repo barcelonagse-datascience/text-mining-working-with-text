{
 "cells": [
  {
   "cell_type": "markdown",
   "metadata": {
    "collapsed": false,
    "ein.tags": "worksheet-0",
    "slideshow": {
     "slide_type": "-"
    }
   },
   "source": [
    "# Intro to Regular Expressions"
   ]
  },
  {
   "cell_type": "markdown",
   "metadata": {
    "collapsed": false,
    "ein.tags": "worksheet-0",
    "slideshow": {
     "slide_type": "-"
    }
   },
   "source": [
    "It's a language to describe patterns in text. \n",
    "\n",
    "Regular expressions are implemented in every major programming language.\n",
    "\n",
    "They may differ slightly between languages, but are largely the same. "
   ]
  },
  {
   "cell_type": "markdown",
   "metadata": {
    "collapsed": false,
    "ein.tags": "worksheet-0",
    "slideshow": {
     "slide_type": "-"
    }
   },
   "source": [
    "In Python we use regular expressions through the \"re\" package. \n",
    "\n",
    "For this demo, we will focus on the \"search\" function, which provides basic \"global\" pattern matching on a string, determining whether or not the pattern is matched and returning the location of the match if it exists."
   ]
  },
  {
   "cell_type": "code",
   "execution_count": 2,
   "metadata": {
    "autoscroll": false,
    "collapsed": false,
    "ein.hycell": false,
    "ein.tags": "worksheet-0",
    "slideshow": {
     "slide_type": "-"
    }
   },
   "outputs": [],
   "source": [
    "from re import search"
   ]
  },
  {
   "cell_type": "code",
   "execution_count": 3,
   "metadata": {
    "autoscroll": false,
    "collapsed": false,
    "ein.hycell": false,
    "ein.tags": "worksheet-0",
    "slideshow": {
     "slide_type": "-"
    }
   },
   "outputs": [],
   "source": [
    "# Basic letters and numbers are valid regular expressions\n",
    "\n",
    "assert search(r'cat', 'a cat went home') != None"
   ]
  },
  {
   "cell_type": "code",
   "execution_count": 4,
   "metadata": {
    "autoscroll": false,
    "collapsed": false,
    "ein.hycell": false,
    "ein.tags": "worksheet-0",
    "slideshow": {
     "slide_type": "-"
    }
   },
   "outputs": [],
   "source": [
    "assert search(r'cat', 'a dog went home') == None"
   ]
  },
  {
   "cell_type": "code",
   "execution_count": 5,
   "metadata": {
    "autoscroll": false,
    "collapsed": false,
    "ein.hycell": false,
    "ein.tags": "worksheet-0",
    "slideshow": {
     "slide_type": "-"
    }
   },
   "outputs": [],
   "source": [
    "# You can include \"optional\" letters by following the letter with \n",
    "# a question mark: \n",
    "\n",
    "assert search(r'cats?', 'a cat went home') != None\n",
    "assert search(r'cats?', 'cats went home') != None"
   ]
  },
  {
   "cell_type": "code",
   "execution_count": 6,
   "metadata": {
    "autoscroll": false,
    "collapsed": false,
    "ein.hycell": false,
    "ein.tags": "worksheet-0",
    "slideshow": {
     "slide_type": "-"
    }
   },
   "outputs": [],
   "source": [
    "# You can include a search for \"one or more\" with the +\n",
    "# For example, let's assume we want only to match an \n",
    "# exclamation of \"cat\" that ends with one or more\n",
    "# exclamation points: \n",
    "\n",
    "assert search(r'cats?!+', 'a cat went home') == None\n",
    "assert search(r'cats?!+', 'a cat!') != None\n",
    "assert search(r'cats?!+', 'a cat!!!') != None"
   ]
  },
  {
   "cell_type": "code",
   "execution_count": 7,
   "metadata": {
    "autoscroll": false,
    "collapsed": false,
    "ein.hycell": false,
    "ein.tags": "worksheet-0",
    "slideshow": {
     "slide_type": "-"
    }
   },
   "outputs": [],
   "source": [
    "# Note that our example isn't only matching the\n",
    "# word \"cat\":\n",
    "\n",
    "assert search(r'cat', 'a category') != None"
   ]
  },
  {
   "cell_type": "code",
   "execution_count": 8,
   "metadata": {
    "autoscroll": false,
    "collapsed": false,
    "ein.hycell": false,
    "ein.tags": "worksheet-0",
    "slideshow": {
     "slide_type": "-"
    }
   },
   "outputs": [],
   "source": [
    "# We can build up a pattern of characters and spaces\n",
    "# A great character for \"space\" is given by the \\s\n",
    "# expression. Backslashes in regular expressions\n",
    "# denote \"special characters\", such as \\s:\n",
    "\n",
    "assert search(r'\\scat\\s', 'a category') == None\n",
    "assert search(r'\\scat\\s', 'a cat went home') != None"
   ]
  },
  {
   "cell_type": "code",
   "execution_count": 9,
   "metadata": {
    "autoscroll": false,
    "collapsed": false,
    "ein.hycell": false,
    "ein.tags": "worksheet-0",
    "slideshow": {
     "slide_type": "-"
    }
   },
   "outputs": [],
   "source": [
    "# But now our expression doesn't match the following: \n",
    "\n",
    "assert search(r'\\scat\\s', 'a cat') == None\n",
    "assert search(r'\\scat\\s', 'a cat.') == None\n",
    "assert search(r'\\scat\\s', 'cat') == None\n",
    "\n",
    "# which seems problematic"
   ]
  },
  {
   "cell_type": "code",
   "execution_count": 10,
   "metadata": {
    "autoscroll": false,
    "collapsed": false,
    "ein.hycell": false,
    "ein.tags": "worksheet-0",
    "slideshow": {
     "slide_type": "-"
    }
   },
   "outputs": [],
   "source": [
    "# There is another special character, \\b, \n",
    "# which stands for \"word boundary\".\n",
    "# It is very powerful for this common scenario: \n",
    "\n",
    "assert search(r'\\bcat\\b', 'a cat') != None\n",
    "assert search(r'\\bcat\\b', 'a cat.') != None\n",
    "assert search(r'\\bcat\\b', 'cat') != None\n",
    "assert search(r'\\bcat\\b', 'a cat went home') != None"
   ]
  },
  {
   "cell_type": "code",
   "execution_count": 11,
   "metadata": {
    "autoscroll": false,
    "collapsed": false,
    "ein.hycell": false,
    "ein.tags": "worksheet-0",
    "slideshow": {
     "slide_type": "-"
    }
   },
   "outputs": [],
   "source": [
    "# Another useful special character is the \\w\n",
    "# character. It matches any \"word character\" which \n",
    "# refers to, basically, letters, numbers and underscores\n",
    "# This can be used, for example, to find hashtags: \n",
    "\n",
    "assert search(r'#\\w+', 'a #cat') != None\n",
    "assert search(r'#\\w+', 'a #@home') == None\n",
    "assert search(r'#\\w+', 'a #') == None"
   ]
  },
  {
   "cell_type": "code",
   "execution_count": 12,
   "metadata": {
    "autoscroll": false,
    "collapsed": false,
    "ein.hycell": false,
    "ein.tags": "worksheet-0",
    "slideshow": {
     "slide_type": "-"
    }
   },
   "outputs": [],
   "source": [
    "# We can also negate things using ^. For example, we might be\n",
    "# interested in anything that's NOT a space character:\n",
    "# Note: when negating, you must surround the negated part\n",
    "# with square brackets []\n",
    "\n",
    "assert search(r'#[^\\s]+', 'a #cat') != None\n",
    "assert search(r'#[^\\s]+', 'a #c@t') != None\n",
    "assert search(r'#[^\\s]+', 'a #@home') != None"
   ]
  },
  {
   "cell_type": "code",
   "execution_count": 13,
   "metadata": {
    "autoscroll": false,
    "collapsed": false,
    "ein.hycell": false,
    "ein.tags": "worksheet-0",
    "slideshow": {
     "slide_type": "-"
    }
   },
   "outputs": [],
   "source": [
    "# You can use a logical or with \"|\"\n",
    "\n",
    "assert search('cat|dog', 'a dog went home') != None\n",
    "assert search('cat|dog', 'a cat went home') != None"
   ]
  },
  {
   "cell_type": "code",
   "execution_count": 14,
   "metadata": {
    "collapsed": false
   },
   "outputs": [],
   "source": [
    "# You can search for digits with \\d:\n",
    "\n",
    "assert search('\\d', 'foo1bar') != None\n",
    "assert search('\\d', 'foobar') == None"
   ]
  },
  {
   "cell_type": "markdown",
   "metadata": {
    "collapsed": false
   },
   "source": [
    "## The `sub` function\n",
    "\n",
    "The `search` function is especially useful for showing how regular expressions work, however the `sub` function is one of the most useful for text preprocessing. \n",
    "\n",
    "\"Sub\" stands for **substitution**. This is used to substitute some types of characters for others, or remove some types of characters all together! \n",
    "\n",
    "The function is used as such: \n",
    "\n",
    "```python\n",
    "sub(patern, replacement, input_string)\n",
    "```\n",
    "\n",
    "Where `pattern` is a regular expression, `replacement` is the substitution, and `input_string` is the string in which you'd like to replace all occurrances of the pattern with the substitution. \n",
    "\n",
    "Let's look at some examples."
   ]
  },
  {
   "cell_type": "code",
   "execution_count": 17,
   "metadata": {
    "collapsed": false
   },
   "outputs": [],
   "source": [
    "from re import sub"
   ]
  },
  {
   "cell_type": "code",
   "execution_count": 23,
   "metadata": {
    "collapsed": false
   },
   "outputs": [],
   "source": [
    "assert sub('cat', '', 'my cat likes cats') == 'my  likes s'\n",
    "assert sub('cats*', '', 'my cat likes cats') == 'my  likes '"
   ]
  },
  {
   "cell_type": "code",
   "execution_count": 30,
   "metadata": {
    "collapsed": false
   },
   "outputs": [],
   "source": [
    "# We can replace whitespaces with the \\s\n",
    "# pattern:\n",
    "\n",
    "assert sub('\\s+', ' ', 'this   is\\n an  annoying\\tstring') == 'this is an annoying string'"
   ]
  },
  {
   "cell_type": "code",
   "execution_count": 34,
   "metadata": {
    "collapsed": false
   },
   "outputs": [],
   "source": [
    "# We can replace all non-alphanumeric characters \n",
    "# in a word: \n",
    "\n",
    "assert sub('[^\\w]', '', \"cat's\") == 'cats'"
   ]
  },
  {
   "cell_type": "code",
   "execution_count": 40,
   "metadata": {
    "collapsed": false
   },
   "outputs": [
    {
     "data": {
      "text/plain": [
       "'the cats meow 100 Cool'"
      ]
     },
     "execution_count": 40,
     "metadata": {},
     "output_type": "execute_result"
    }
   ],
   "source": [
    "sub('[^\\w|\\s]', '', \"the cat's meow. 100!! Cool!\")"
   ]
  },
  {
   "cell_type": "code",
   "execution_count": 41,
   "metadata": {
    "collapsed": false
   },
   "outputs": [],
   "source": [
    "# We can replace all non-alphanumeric or space characters \n",
    "# in a sentence to get rid of punctuation:\n",
    "\n",
    "assert sub('[^\\w|\\s]', '', \"the cat's meow. 100!! Cool!\") == 'the cats meow 100 Cool'"
   ]
  }
 ],
 "metadata": {
  "name": "regular-expressions.ipynb"
 },
 "nbformat": 4,
 "nbformat_minor": 2
}
