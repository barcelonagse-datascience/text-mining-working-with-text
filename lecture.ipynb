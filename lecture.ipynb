{
 "cells": [
  {
   "cell_type": "code",
   "execution_count": null,
   "metadata": {},
   "outputs": [],
   "source": [
    "# You might neeed/want these text-specific \n",
    "# libraries if you don't have them: \n",
    "\n",
    "# ! pip install --user --quiet nltk spacy\n",
    "# ! python -m spacy download en_core_web_sm"
   ]
  },
  {
   "cell_type": "markdown",
   "metadata": {},
   "source": [
    "# Working with Text\n",
    "\n",
    "This notebook contains videos and exercises that will guide you through some basic ideas in working with text.\n",
    "\n",
    "The goals for this notebook are as follows: \n",
    "\n",
    "1. Practice practice practice working with text in Python. You will code a lot in these exercises. That's the idea!\n",
    "\n",
    "2. See the techniques make a difference on a very simple problem. This should give you a feel for what these techniques are doing!\n",
    "\n",
    "3. Prove (to yourself and to me!) that you understand the techniques by implementing them.\n",
    "\n",
    "This repo contains two notebooks: 1) Videos/Exercises 2) A graded assignment.\n",
    "\n",
    "After each video in this notebook is a small exercise. The exercise asks you to _implement_ from scratch the ideas explained in the video. I encourage everyone to try to implement the ideas and to work through the exercises. If you are proficient in Python, they should take less than an hour all together. If you are not proficient in Python, they will be good practice! \n",
    "\n",
    "That being said, you can find solutions to the first few exercises in the `solutions.py` file included in this folder. Those solutions should help you see the effect of the techniques even if you are not able to implement them yourself."
   ]
  },
  {
   "cell_type": "code",
   "execution_count": 22,
   "metadata": {},
   "outputs": [
    {
     "data": {
      "text/html": [
       "\n",
       "        <iframe\n",
       "            width=\"640\"\n",
       "            height=\"360\"\n",
       "            src=\"https://www.youtube.com/embed/0ua6H8jHiBU\"\n",
       "            frameborder=\"0\"\n",
       "            allowfullscreen\n",
       "        ></iframe>\n",
       "        "
      ],
      "text/plain": [
       "<IPython.lib.display.YouTubeVideo at 0x7f54ff959610>"
      ]
     },
     "execution_count": 22,
     "metadata": {},
     "output_type": "execute_result"
    }
   ],
   "source": [
    "from IPython.lib.display import YouTubeVideo\n",
    "\n",
    "YouTubeVideo('0ua6H8jHiBU', width=640,height=360)"
   ]
  },
  {
   "cell_type": "code",
   "execution_count": null,
   "metadata": {},
   "outputs": [],
   "source": [
    "# 1)\n",
    "# Let's say you are inventing search. \n",
    "#\n",
    "# Imagine someone searching for the term \"People who see ghosts\". \n",
    "# Implement a search algorithm that picks the correct document\n",
    "# from the `docs` array below. It should be easy!\n",
    "#\n",
    "# HINT: \n",
    "# Look at the Python documentation for string methods that\n",
    "# you can use to manipulate text: \n",
    "# \n",
    "# https://docs.python.org/3/library/stdtypes.html#string-methods\n",
    "#\n",
    "# Methods such as .strip, .split, .join, .lower are commonly\n",
    "# used in text mining applications.\n",
    "\n",
    "\n",
    "docs = ['This is a document about people who see ghosts. Those people end up on TV shows.',\n",
    "        'This is a document about seeing goats. Those people work on farms.']\n",
    "\n",
    "def search(docs, query):\n",
    "    # Your function here!\n",
    "    pass\n",
    "\n",
    "search(docs, 'People who see ghosts')"
   ]
  },
  {
   "cell_type": "code",
   "execution_count": 23,
   "metadata": {},
   "outputs": [
    {
     "data": {
      "text/html": [
       "\n",
       "        <iframe\n",
       "            width=\"640\"\n",
       "            height=\"360\"\n",
       "            src=\"https://www.youtube.com/embed/vfdode-FOO8\"\n",
       "            frameborder=\"0\"\n",
       "            allowfullscreen\n",
       "        ></iframe>\n",
       "        "
      ],
      "text/plain": [
       "<IPython.lib.display.YouTubeVideo at 0x7f54ffc360a0>"
      ]
     },
     "execution_count": 23,
     "metadata": {},
     "output_type": "execute_result"
    }
   ],
   "source": [
    "YouTubeVideo('vfdode-FOO8', width=640,height=360)"
   ]
  },
  {
   "cell_type": "code",
   "execution_count": null,
   "metadata": {},
   "outputs": [],
   "source": [
    "# You probably needed to lowercase both the\n",
    "# term and your document in order to make\n",
    "# your search algorithm work. \n",
    "#\n",
    "# We call this \"preprocessing\". Let's make\n",
    "# a preprocessing function that we can build\n",
    "# on throughout the notebook:\n",
    "\n",
    "def preprocess(doc):\n",
    "    return doc.lower()"
   ]
  },
  {
   "cell_type": "code",
   "execution_count": null,
   "metadata": {},
   "outputs": [],
   "source": [
    "# 2)\n",
    "# Now let's try your search algorithm on the following docs.\n",
    "# Does it return the correct document? \n",
    "#\n",
    "# If we agree the correct document is the second one, \n",
    "# then we can see that an \"exact string match\"\n",
    "#\n",
    "# Can can you create a search algorithm \n",
    "# that selects the second document?\n",
    "\n",
    "# HINT: You will need to come up with a new\n",
    "# decision mechanism AND add more preprocessing.\n",
    "#\n",
    "# HINT: You might need to use regular expressions\n",
    "# in the preprocessing. You should find everything\n",
    "# you need in the regular-expressions.ipynb file.\n",
    "\n",
    "\n",
    "docs = ['\"I dont believe people who see ghosts\", said Mannie, before spitting into the wind and riding his bike down the street at top speed. He then went home and ate peanut-butter and jelly sandwiches all day. Mannie really liked peanut-butter and jelly sandwiches. He ate them so much that his poor mother had to purchase a new jar of peanut butter every afternoon.',\n",
    "\n",
    "        'We have collected a report of people in our community who see ghosts. Each resident was asked \"how many ghosts have you seen?\", \"describe the ghosts you saw\", and \"tell us about your mother.\" Afterwards, we compared the reports of ghosts between the different individuals, and assessed whether or not they were actually seeing these apparitions.']\n",
    "\n",
    "\n",
    "\n",
    "search(docs, 'People who see ghosts')"
   ]
  },
  {
   "cell_type": "code",
   "execution_count": 24,
   "metadata": {},
   "outputs": [
    {
     "data": {
      "text/html": [
       "\n",
       "        <iframe\n",
       "            width=\"640\"\n",
       "            height=\"360\"\n",
       "            src=\"https://www.youtube.com/embed/H1Fw24o4zeA\"\n",
       "            frameborder=\"0\"\n",
       "            allowfullscreen\n",
       "        ></iframe>\n",
       "        "
      ],
      "text/plain": [
       "<IPython.lib.display.YouTubeVideo at 0x7f54ffc36610>"
      ]
     },
     "execution_count": 24,
     "metadata": {},
     "output_type": "execute_result"
    }
   ],
   "source": [
    "YouTubeVideo('H1Fw24o4zeA', width=640,height=360)"
   ]
  },
  {
   "cell_type": "code",
   "execution_count": null,
   "metadata": {},
   "outputs": [],
   "source": [
    "# 3)\n",
    "# Now the second document has changed a bit:\n",
    "# \"ghosts\" to \"a ghost\" and \"the ghosts you saw\" to \n",
    "# \"the last ghost you saw\". \n",
    "#\n",
    "# Clearly, these don't change the meaning. But they\n",
    "# mess up your algorithm which relies on counting\n",
    "# words!\n",
    "#\n",
    "# Let's add some steps to our `preprocess` function\n",
    "# to create a representation of our data that \n",
    "# allows our previous word-count function to work.\n",
    "#\n",
    "# HINT: You can either lemmatize or stem, but\n",
    "# it's a bit simpler to stem, so start with that!\n",
    "# Bonus points for lemmatization :)\n",
    "\n",
    "\n",
    "docs = ['\"I dont believe people who see ghosts\", said Mannie, before spitting into the wind and riding his bike down the street at top speed. He then went home and ate peanut-butter and jelly sandwiches all day. Mannie really liked peanut-butter and jelly sandwiches. He ate them so much that his poor mother had to purchase a new jar of peanut butter every afternoon.',\n",
    "\n",
    "        'We have collected a report of people in our community seeing ghosts. Each resident was asked \"how many ghosts have you seen?\", \"describe the last ghost you saw\", and \"tell us about your mother.\" Afterwards, we compared the ghost reports between the different individuals, and assessed whether or not they were actually seeing these apparitions.']\n",
    "\n",
    "search(docs, 'People who see ghosts')"
   ]
  },
  {
   "cell_type": "code",
   "execution_count": 25,
   "metadata": {},
   "outputs": [
    {
     "data": {
      "text/html": [
       "\n",
       "        <iframe\n",
       "            width=\"640\"\n",
       "            height=\"360\"\n",
       "            src=\"https://www.youtube.com/embed/x-55EOVM-1M\"\n",
       "            frameborder=\"0\"\n",
       "            allowfullscreen\n",
       "        ></iframe>\n",
       "        "
      ],
      "text/plain": [
       "<IPython.lib.display.YouTubeVideo at 0x7f54ffc367f0>"
      ]
     },
     "execution_count": 25,
     "metadata": {},
     "output_type": "execute_result"
    }
   ],
   "source": [
    "YouTubeVideo('x-55EOVM-1M', width=640,height=360)"
   ]
  },
  {
   "cell_type": "code",
   "execution_count": null,
   "metadata": {},
   "outputs": [],
   "source": [
    "# 4)\n",
    "# Now we've added some more documents.\n",
    "# You'll note that the word count solution from \n",
    "# before no longer works as intended. It picks\n",
    "# the document about people seeing things.\n",
    "# \n",
    "# Let's try and re-weight the words so that\n",
    "# our search algorithm pays more attention\n",
    "# to the words we care about, for example,\n",
    "# to \"ghosts\". \n",
    "#\n",
    "\n",
    "docs = ['\"I dont believe people who see ghosts\", said Mannie, before spitting into the wind and riding his bike down the street at top speed. He then went home and ate peanut-butter and jelly sandwiches all day. Mannie really liked peanut-butter and jelly sandwiches. He ate them so much that his poor mother had to purchase a new jar of peanut butter every afternoon.',\n",
    "\n",
    "        'People see incredible things. One time I saw some people talking about things they were seeing, and those people were so much fun. They saw clouds and they saw airplanes. They saw dirt and they saw worms. Can you believe the amount of seeing done by these people? People are the best.',\n",
    "\n",
    "        'This is an article about a circus. A Circus is where people go to see other people who perform great things. Circuses also have elephants and tigers, which generally get a big woop from the crowd.',\n",
    "\n",
    "        'Lots of people have come down with Coronavirus. You can see the latest numbers and follow our updates on the pandemic below. Please, stay safe.',\n",
    "\n",
    "        'Goats are lovely creatures. Many people love goats. People who love goats love seeing them play in the fields.',\n",
    "\n",
    "        'We have collected a report of people in our community seeing ghosts. Each resident was asked \"how many ghosts have you seen?\", \"describe the last ghost you saw\", and \"tell us about your mother.\" Afterwards, we compared the ghost reports between the different individuals, and assessed whether or not they were actually seeing these apparitions.']\n",
    "\n",
    "\n",
    "\n",
    "search(docs, 'People who see ghosts')"
   ]
  },
  {
   "cell_type": "code",
   "execution_count": 26,
   "metadata": {},
   "outputs": [
    {
     "data": {
      "text/html": [
       "\n",
       "        <iframe\n",
       "            width=\"640\"\n",
       "            height=\"360\"\n",
       "            src=\"https://www.youtube.com/embed/SRiCPv8isck\"\n",
       "            frameborder=\"0\"\n",
       "            allowfullscreen\n",
       "        ></iframe>\n",
       "        "
      ],
      "text/plain": [
       "<IPython.lib.display.YouTubeVideo at 0x7f54ffc36820>"
      ]
     },
     "execution_count": 26,
     "metadata": {},
     "output_type": "execute_result"
    }
   ],
   "source": [
    "YouTubeVideo('SRiCPv8isck', width=640,height=360)"
   ]
  }
 ],
 "metadata": {
  "kernelspec": {
   "display_name": "Python 3",
   "language": "python",
   "name": "python3"
  },
  "language_info": {
   "codemirror_mode": {
    "name": "ipython",
    "version": 3
   },
   "file_extension": ".py",
   "mimetype": "text/x-python",
   "name": "python",
   "nbconvert_exporter": "python",
   "pygments_lexer": "ipython3",
   "version": "3.8.2"
  },
  "name": "working-with-text.ipynb"
 },
 "nbformat": 4,
 "nbformat_minor": 4
}
