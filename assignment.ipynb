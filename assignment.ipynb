{
 "cells": [
  {
   "cell_type": "markdown",
   "metadata": {},
   "source": [
    "# Working with Text: Assignment\n",
    "\n",
    "The assignment consists of 3 questions you will need to answer. You will be creating, from scratch, something akin to the `TfidfVectorizer` in `sklearn`. You can reuse any functions from the lecture notebook if you want, but you don't need them.\n",
    "\n"
   ]
  },
  {
   "cell_type": "code",
   "execution_count": null,
   "metadata": {},
   "outputs": [],
   "source": [
    "# ###################################################################\n",
    "#                          ASSIGNMENT\n",
    "# ###################################################################\n",
    "#\n",
    "# Create a class (or function), called \"Vectorizer\" (\"vectorizer\").\n",
    "# \n",
    "# It should take a list of strings (documents) and turn it into a\n",
    "# 2D Numpy Array representing the documents as vectors (rows are\n",
    "# documents). You have flexibility in how exactly they are represented,\n",
    "# but it should be based on a basic term-frequency vector. \n",
    "#\n",
    "# The vectors should be \"normalized\" such that each row has\n",
    "# an l2 norm of 1.\n",
    "#\n",
    "# NOTE: You are implementing this in pure Python/Numpy\n",
    "#\n",
    "# EXERCISES:\n",
    "#\n",
    "# 1) Show that the euclidean distance and cosine distance\n",
    "#    are proportional (preserve the relative distance between \n",
    "#    all the documents). Remember, this is only the case \n",
    "#    because of the normalized vectors.\n",
    "#\n",
    "# 2) Print out a 2D heatmap (seaborn heatmap, for example) of the\n",
    "#    pairwise distances between all the documents. Do they make\n",
    "#    sense? \n",
    "#\n",
    "# 3) Get the euclidean distance between the \"query document\" \n",
    "#    (\"People who see ghosts\") to be closer to the \"target document\"\n",
    "#    (\"We have collected a report...\") than any other document\n",
    "#    in the corpus. Report a ratio of next_closest/target, which \n",
    "#    should be > 1. This is a competition! I will report those who \n",
    "#    get the highest score (without doing silly things).\n",
    "#\n",
    "#    Try to use the various optimizations (preprocessing, forms of \n",
    "#    TF-IDF, word removal, etc.) discussed in the slides to increase\n",
    "#    the separation and increase the ratio.\n",
    "#    \n",
    "\n",
    "\n"
   ]
  },
  {
   "cell_type": "code",
   "execution_count": null,
   "metadata": {},
   "outputs": [],
   "source": [
    "docs = ['People who see ghosts',\n",
    "\n",
    "        '\"I dont believe people who see ghosts\", said Mannie, before spitting into the wind and riding his bike down the street at top speed. He then went home and ate peanut-butter and jelly sandwiches all day. Mannie really liked peanut-butter and jelly sandwiches. He ate them so much that his poor mother had to purchase a new jar of peanut butter every afternoon.',\n",
    "\n",
    "        'People see incredible things. One time I saw some people talking about things they were seeing, and those people were so much fun. They saw clouds and they saw airplanes. They saw dirt and they saw worms. Can you believe the amount of seeing done by these people? People are the best.',\n",
    "\n",
    "        'This is an article about a circus. A Circus is where people go to see other people who perform great things. Circuses also have elephants and tigers, which generally get a big woop from the crowd.',\n",
    "\n",
    "        'Lots of people have come down with Coronavirus. You can see the latest numbers and follow our updates on the pandemic below. Please, stay safe.',\n",
    "\n",
    "        'Goats are lovely creatures. Many people love goats. People who love goats love seeing them play in the fields.',\n",
    "\n",
    "        'We have collected a report of people in our community seeing ghosts. Each resident was asked \"how many ghosts have you seen?\", \"describe the last ghost you saw\", and \"tell us about your mother.\" Afterwards, we compared the ghost reports between the different individuals, and assessed whether or not they were actually seeing these apparitions.']\n",
    "\n"
   ]
  },
  {
   "cell_type": "code",
   "execution_count": null,
   "metadata": {},
   "outputs": [],
   "source": [
    "def pairwise_distance(X):\n",
    "    N = X.shape[0]\n",
    "    dists = np.zeros((N, N))\n",
    "    for i, a in enumerate(X):\n",
    "        for j, b in enumerate(X):\n",
    "            dists[i, j] = np.linalg.norm(a - b)\n",
    "\n",
    "    return dists\n",
    "\n",
    "def get_score(vecs):\n",
    "    dists = pairwise_distance(vecs)\n",
    "    mxidx = np.argmin(dists[0][1:-1]) + 1\n",
    "    next_best = np.linalg.norm(vecs[mxidx] - vecs[0]) \n",
    "    target = np.linalg.norm(vecs[-1] - vecs[0])\n",
    "    score = next_best / target\n",
    "    print('SCORE: ', score)\n",
    "\n",
    "# Use get_score to check the score for assignment 3!"
   ]
  }
 ],
 "metadata": {
  "kernelspec": {
   "display_name": "Python 3",
   "language": "python",
   "name": "python3"
  },
  "language_info": {
   "codemirror_mode": {
    "name": "ipython",
    "version": 3
   },
   "file_extension": ".py",
   "mimetype": "text/x-python",
   "name": "python",
   "nbconvert_exporter": "python",
   "pygments_lexer": "ipython3",
   "version": "3.8.2"
  },
  "name": "assignment.ipynb"
 },
 "nbformat": 4,
 "nbformat_minor": 4
}
